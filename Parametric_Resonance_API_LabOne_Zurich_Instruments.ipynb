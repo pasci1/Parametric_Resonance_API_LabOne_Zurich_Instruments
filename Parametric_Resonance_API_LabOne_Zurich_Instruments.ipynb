{
 "cells": [
  {
   "cell_type": "code",
   "execution_count": 2,
   "id": "e2d5c02a",
   "metadata": {},
   "outputs": [
    {
     "ename": "CoreError",
     "evalue": "Could not connect to a Zurich Instruments data server on host '192.168.55.138' and port 8004. Make sure that the server is running, host / port names are correct, API / DataServer versions match. Execution of connect took longer than 20 seconds.",
     "output_type": "error",
     "traceback": [
      "\u001b[1;31m---------------------------------------------------------------------------\u001b[0m",
      "\u001b[1;31mCoreError\u001b[0m                                 Traceback (most recent call last)",
      "Cell \u001b[1;32mIn[2], line 7\u001b[0m\n\u001b[0;32m      4\u001b[0m \u001b[38;5;28;01mimport\u001b[39;00m \u001b[38;5;21;01mnumpy\u001b[39;00m \u001b[38;5;28;01mas\u001b[39;00m \u001b[38;5;21;01mnp\u001b[39;00m\n\u001b[0;32m      5\u001b[0m \u001b[38;5;28;01mimport\u001b[39;00m \u001b[38;5;21;01mmatplotlib\u001b[39;00m\u001b[38;5;21;01m.\u001b[39;00m\u001b[38;5;21;01mpyplot\u001b[39;00m \u001b[38;5;28;01mas\u001b[39;00m \u001b[38;5;21;01mplt\u001b[39;00m\n\u001b[1;32m----> 7\u001b[0m daq \u001b[38;5;241m=\u001b[39m \u001b[43mzhinst\u001b[49m\u001b[38;5;241;43m.\u001b[39;49m\u001b[43mcore\u001b[49m\u001b[38;5;241;43m.\u001b[39;49m\u001b[43mziDAQServer\u001b[49m\u001b[43m(\u001b[49m\u001b[38;5;124;43m'\u001b[39;49m\u001b[38;5;124;43m192.168.55.138\u001b[39;49m\u001b[38;5;124;43m'\u001b[39;49m\u001b[43m,\u001b[49m\u001b[43m \u001b[49m\u001b[38;5;241;43m8004\u001b[39;49m\u001b[43m,\u001b[49m\u001b[43m \u001b[49m\u001b[38;5;241;43m6\u001b[39;49m\u001b[43m)\u001b[49m\n",
      "\u001b[1;31mCoreError\u001b[0m: Could not connect to a Zurich Instruments data server on host '192.168.55.138' and port 8004. Make sure that the server is running, host / port names are correct, API / DataServer versions match. Execution of connect took longer than 20 seconds."
     ]
    }
   ],
   "source": [
    "import time\n",
    "import datetime\n",
    "import zhinst.core\n",
    "import numpy as np\n",
    "import matplotlib.pyplot as plt\n",
    "\n",
    "daq = zhinst.core.ziDAQServer('192.168.55.138', 8004, 6)"
   ]
  },
  {
   "cell_type": "code",
   "execution_count": null,
   "id": "ff4e904b",
   "metadata": {},
   "outputs": [],
   "source": [
    "daq.setDouble('/dev3554/oscs/0/freq', 34.53000000) # frequency\n",
    "daq.setInt('/dev3554/demods/1/harmonic', 2) # harmonic\n",
    "daq.setDouble('/dev3554/demods/0/timeconstant', 1.62282188) #timeconstant\n",
    "daq.setDouble('/dev3554/demods/0/rate', 100.00000000) # data points per second\n",
    "daq.setDouble('/dev3554/sigouts/0/amplitudes/1', 0.15000000) # amplitude in V\n",
    "daq.setInt('/dev3554/sigouts/0/on', 1) # turns on button \"top left force\"\n",
    "# daq.setInt('/dev3554/sigouts/0/enables/1', 0) # turn off button force\n",
    "daq.setInt('/dev3554/sigouts/0/enables/1', 1) # turns on button \"bottom fight force\"\n",
    "\n",
    "## both buttons need to me turned on to start parametric resonance"
   ]
  },
  {
   "cell_type": "code",
   "execution_count": null,
   "id": "8f7f87cf",
   "metadata": {},
   "outputs": [],
   "source": [
    "daq_module = daq.dataAcquisitionModule()\n",
    "daq_module.set('triggernode', '/dev3554/demods/0/sample.R')\n",
    "daq_module.set('preview', 1)\n",
    "daq_module.set('device', 'dev3554')\n",
    "daq_module.set('historylength', 100)\n",
    "daq_module.set('hysteresis', 0.01000000)\n",
    "daq_module.set('level', 0.10000000)\n",
    "daq_module.set('save/directory', '\\\\home\\mdudko\\My Documents\\Zurich Instruments\\LabOne\\WebServer')\n",
    "daq_module.set('clearhistory', 1)\n",
    "daq_module.set('bandwidth', 0.00000000)"
   ]
  },
  {
   "cell_type": "code",
   "execution_count": null,
   "id": "2ca797b6",
   "metadata": {},
   "outputs": [],
   "source": [
    "turnOn = True\n",
    "ttime = 1\n",
    "length = 1"
   ]
  },
  {
   "cell_type": "code",
   "execution_count": null,
   "id": "cad1eefd",
   "metadata": {},
   "outputs": [],
   "source": [
    "if turnOn:\n",
    "    daq.setInt('/dev3554/sigouts/0/enables/1', 1)\n",
    "    time.sleep(ttime)\n",
    "\n",
    "\n",
    "daq_module.set('endless', 0)\n",
    "# daq_module.subscribe('/dev3554/demods/0/sample.R.avg')\n",
    "daq_module.subscribe('/dev3554/demods/0/sample.X.avg')\n",
    "daq_module.subscribe('/dev3554/demods/0/sample.Y.avg')\n",
    "daq_module.execute()\n",
    "\n",
    "p = length*100\n",
    "daq_module.set('grid/cols', p)\n",
    "daq.setInt('/dev3554/sigouts/0/enables/1', 0)\n",
    "daq_module.set('forcetrigger', 1)\n",
    "\n",
    "while daq_module.progress() < 1.0 and not daq_module.finished():\n",
    "    time.sleep(5)\n",
    "    print(f\"Progress {float(daq_module.progress()) * 100:.2f} %\\r\")\n",
    "\n",
    "data = daq_module.read()\n",
    "\n",
    "x = np.array(data['dev3554']['demods']['0']['sample.x.avg'][0]['value'])[0]\n",
    "y = np.array(data['dev3554']['demods']['0']['sample.y.avg'][0]['value'])[0]\n",
    "\n",
    "myString = datetime.datetime.now().strftime(\"%H-%M\")\n",
    "np.savetxt(f\"{myString}.csv\",np.column_stack((x,y)),delimiter=\",\",fmt='%s',comments='')\n",
    "\n",
    "plt.scatter(x*1000,y*1000)\n",
    "plt.show()"
   ]
  },
  {
   "cell_type": "code",
   "execution_count": 11,
   "id": "9d8a801e",
   "metadata": {},
   "outputs": [
    {
     "ename": "FileNotFoundError",
     "evalue": "[Errno 2] No such file or directory: '\\\\DATA\\\\11-51.csv'",
     "output_type": "error",
     "traceback": [
      "\u001b[1;31m---------------------------------------------------------------------------\u001b[0m",
      "\u001b[1;31mFileNotFoundError\u001b[0m                         Traceback (most recent call last)",
      "Cell \u001b[1;32mIn[11], line 4\u001b[0m\n\u001b[0;32m      1\u001b[0m \u001b[38;5;28;01mimport\u001b[39;00m \u001b[38;5;21;01mnumpy\u001b[39;00m \u001b[38;5;28;01mas\u001b[39;00m \u001b[38;5;21;01mnp\u001b[39;00m\n\u001b[0;32m      2\u001b[0m \u001b[38;5;28;01mimport\u001b[39;00m \u001b[38;5;21;01mmatplotlib\u001b[39;00m\u001b[38;5;21;01m.\u001b[39;00m\u001b[38;5;21;01mpyplot\u001b[39;00m \u001b[38;5;28;01mas\u001b[39;00m \u001b[38;5;21;01mplt\u001b[39;00m\n\u001b[1;32m----> 4\u001b[0m datar \u001b[38;5;241m=\u001b[39m \u001b[43mnp\u001b[49m\u001b[38;5;241;43m.\u001b[39;49m\u001b[43mgenfromtxt\u001b[49m\u001b[43m(\u001b[49m\u001b[38;5;124;43mr\u001b[39;49m\u001b[38;5;124;43m\"\u001b[39;49m\u001b[38;5;124;43m\\\u001b[39;49m\u001b[38;5;124;43mDATA\u001b[39;49m\u001b[38;5;124;43m\\\u001b[39;49m\u001b[38;5;124;43m11-51.csv\u001b[39;49m\u001b[38;5;124;43m\"\u001b[39;49m\u001b[43m,\u001b[49m\u001b[43m \u001b[49m\u001b[43mdelimiter\u001b[49m\u001b[38;5;241;43m=\u001b[39;49m\u001b[38;5;124;43m\"\u001b[39;49m\u001b[38;5;124;43m,\u001b[39;49m\u001b[38;5;124;43m\"\u001b[39;49m\u001b[43m)\u001b[49m\n\u001b[0;32m      5\u001b[0m xr \u001b[38;5;241m=\u001b[39m datar[:,\u001b[38;5;241m0\u001b[39m]\n\u001b[0;32m      6\u001b[0m yr \u001b[38;5;241m=\u001b[39m datar[:,\u001b[38;5;241m1\u001b[39m]\n",
      "File \u001b[1;32m~\\anaconda3\\lib\\site-packages\\numpy\\lib\\npyio.py:1980\u001b[0m, in \u001b[0;36mgenfromtxt\u001b[1;34m(fname, dtype, comments, delimiter, skip_header, skip_footer, converters, missing_values, filling_values, usecols, names, excludelist, deletechars, replace_space, autostrip, case_sensitive, defaultfmt, unpack, usemask, loose, invalid_raise, max_rows, encoding, ndmin, like)\u001b[0m\n\u001b[0;32m   1978\u001b[0m     fname \u001b[38;5;241m=\u001b[39m os_fspath(fname)\n\u001b[0;32m   1979\u001b[0m \u001b[38;5;28;01mif\u001b[39;00m \u001b[38;5;28misinstance\u001b[39m(fname, \u001b[38;5;28mstr\u001b[39m):\n\u001b[1;32m-> 1980\u001b[0m     fid \u001b[38;5;241m=\u001b[39m \u001b[43mnp\u001b[49m\u001b[38;5;241;43m.\u001b[39;49m\u001b[43mlib\u001b[49m\u001b[38;5;241;43m.\u001b[39;49m\u001b[43m_datasource\u001b[49m\u001b[38;5;241;43m.\u001b[39;49m\u001b[43mopen\u001b[49m\u001b[43m(\u001b[49m\u001b[43mfname\u001b[49m\u001b[43m,\u001b[49m\u001b[43m \u001b[49m\u001b[38;5;124;43m'\u001b[39;49m\u001b[38;5;124;43mrt\u001b[39;49m\u001b[38;5;124;43m'\u001b[39;49m\u001b[43m,\u001b[49m\u001b[43m \u001b[49m\u001b[43mencoding\u001b[49m\u001b[38;5;241;43m=\u001b[39;49m\u001b[43mencoding\u001b[49m\u001b[43m)\u001b[49m\n\u001b[0;32m   1981\u001b[0m     fid_ctx \u001b[38;5;241m=\u001b[39m contextlib\u001b[38;5;241m.\u001b[39mclosing(fid)\n\u001b[0;32m   1982\u001b[0m \u001b[38;5;28;01melse\u001b[39;00m:\n",
      "File \u001b[1;32m~\\anaconda3\\lib\\site-packages\\numpy\\lib\\_datasource.py:193\u001b[0m, in \u001b[0;36mopen\u001b[1;34m(path, mode, destpath, encoding, newline)\u001b[0m\n\u001b[0;32m    156\u001b[0m \u001b[38;5;250m\u001b[39m\u001b[38;5;124;03m\"\"\"\u001b[39;00m\n\u001b[0;32m    157\u001b[0m \u001b[38;5;124;03mOpen `path` with `mode` and return the file object.\u001b[39;00m\n\u001b[0;32m    158\u001b[0m \n\u001b[1;32m   (...)\u001b[0m\n\u001b[0;32m    189\u001b[0m \n\u001b[0;32m    190\u001b[0m \u001b[38;5;124;03m\"\"\"\u001b[39;00m\n\u001b[0;32m    192\u001b[0m ds \u001b[38;5;241m=\u001b[39m DataSource(destpath)\n\u001b[1;32m--> 193\u001b[0m \u001b[38;5;28;01mreturn\u001b[39;00m \u001b[43mds\u001b[49m\u001b[38;5;241;43m.\u001b[39;49m\u001b[43mopen\u001b[49m\u001b[43m(\u001b[49m\u001b[43mpath\u001b[49m\u001b[43m,\u001b[49m\u001b[43m \u001b[49m\u001b[43mmode\u001b[49m\u001b[43m,\u001b[49m\u001b[43m \u001b[49m\u001b[43mencoding\u001b[49m\u001b[38;5;241;43m=\u001b[39;49m\u001b[43mencoding\u001b[49m\u001b[43m,\u001b[49m\u001b[43m \u001b[49m\u001b[43mnewline\u001b[49m\u001b[38;5;241;43m=\u001b[39;49m\u001b[43mnewline\u001b[49m\u001b[43m)\u001b[49m\n",
      "File \u001b[1;32m~\\anaconda3\\lib\\site-packages\\numpy\\lib\\_datasource.py:530\u001b[0m, in \u001b[0;36mDataSource.open\u001b[1;34m(self, path, mode, encoding, newline)\u001b[0m\n\u001b[0;32m    528\u001b[0m     \u001b[38;5;28;01mif\u001b[39;00m ext \u001b[38;5;241m==\u001b[39m \u001b[38;5;124m'\u001b[39m\u001b[38;5;124mbz2\u001b[39m\u001b[38;5;124m'\u001b[39m:\n\u001b[0;32m    529\u001b[0m         mode\u001b[38;5;241m.\u001b[39mreplace(\u001b[38;5;124m\"\u001b[39m\u001b[38;5;124m+\u001b[39m\u001b[38;5;124m\"\u001b[39m, \u001b[38;5;124m\"\u001b[39m\u001b[38;5;124m\"\u001b[39m)\n\u001b[1;32m--> 530\u001b[0m     \u001b[38;5;28;01mreturn\u001b[39;00m \u001b[43m_file_openers\u001b[49m\u001b[43m[\u001b[49m\u001b[43mext\u001b[49m\u001b[43m]\u001b[49m\u001b[43m(\u001b[49m\u001b[43mfound\u001b[49m\u001b[43m,\u001b[49m\u001b[43m \u001b[49m\u001b[43mmode\u001b[49m\u001b[38;5;241;43m=\u001b[39;49m\u001b[43mmode\u001b[49m\u001b[43m,\u001b[49m\n\u001b[0;32m    531\u001b[0m \u001b[43m                              \u001b[49m\u001b[43mencoding\u001b[49m\u001b[38;5;241;43m=\u001b[39;49m\u001b[43mencoding\u001b[49m\u001b[43m,\u001b[49m\u001b[43m \u001b[49m\u001b[43mnewline\u001b[49m\u001b[38;5;241;43m=\u001b[39;49m\u001b[43mnewline\u001b[49m\u001b[43m)\u001b[49m\n\u001b[0;32m    532\u001b[0m \u001b[38;5;28;01melse\u001b[39;00m:\n\u001b[0;32m    533\u001b[0m     \u001b[38;5;28;01mraise\u001b[39;00m \u001b[38;5;167;01mFileNotFoundError\u001b[39;00m(\u001b[38;5;124mf\u001b[39m\u001b[38;5;124m\"\u001b[39m\u001b[38;5;132;01m{\u001b[39;00mpath\u001b[38;5;132;01m}\u001b[39;00m\u001b[38;5;124m not found.\u001b[39m\u001b[38;5;124m\"\u001b[39m)\n",
      "\u001b[1;31mFileNotFoundError\u001b[0m: [Errno 2] No such file or directory: '\\\\DATA\\\\11-51.csv'"
     ]
    }
   ],
   "source": [
    "import numpy as np\n",
    "import matplotlib.pyplot as plt\n",
    "\n",
    "datar = np.genfromtxt(r\"\\DATA\\11-51.csv\", delimiter=\",\")\n",
    "xr = datar[:,0]\n",
    "yr = datar[:,1]\n",
    "plt.scatter(xr*1000,yr*1000)\n",
    "plt.show()"
   ]
  },
  {
   "cell_type": "code",
   "execution_count": null,
   "id": "d21bb326",
   "metadata": {},
   "outputs": [],
   "source": []
  }
 ],
 "metadata": {
  "kernelspec": {
   "display_name": "Python 3 (ipykernel)",
   "language": "python",
   "name": "python3"
  },
  "language_info": {
   "codemirror_mode": {
    "name": "ipython",
    "version": 3
   },
   "file_extension": ".py",
   "mimetype": "text/x-python",
   "name": "python",
   "nbconvert_exporter": "python",
   "pygments_lexer": "ipython3",
   "version": "3.9.18"
  }
 },
 "nbformat": 4,
 "nbformat_minor": 5
}
