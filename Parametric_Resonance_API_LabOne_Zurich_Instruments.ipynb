{
 "cells": [
  {
   "cell_type": "code",
   "execution_count": null,
   "id": "50d8cb7e",
   "metadata": {},
   "outputs": [],
   "source": [
    "import time\n",
    "import datetime\n",
    "import zhinst.core\n",
    "import numpy as np\n",
    "import matplotlib.pyplot as plt\n",
    "\n",
    "daq = zhinst.core.ziDAQServer('192.168.55.138', 8004, 6)"
   ]
  },
  {
   "cell_type": "code",
   "execution_count": null,
   "id": "e1629c05",
   "metadata": {},
   "outputs": [],
   "source": [
    "daq.setDouble('/dev3554/oscs/0/freq', 34.53000000) # frequency\n",
    "daq.setInt('/dev3554/demods/1/harmonic', 2) # harmonic\n",
    "daq.setDouble('/dev3554/demods/0/timeconstant', 1.62282188) #timeconstant\n",
    "daq.setDouble('/dev3554/demods/0/rate', 100.00000000) # data points per second\n",
    "daq.setDouble('/dev3554/sigouts/0/amplitudes/1', 0.15000000) # amplitude in V\n",
    "daq.setInt('/dev3554/sigouts/0/on', 1) # turns on button \"top left force\"\n",
    "# daq.setInt('/dev3554/sigouts/0/enables/1', 0) # turn off button force\n",
    "daq.setInt('/dev3554/sigouts/0/enables/1', 1) # turns on button \"bottom fight force\"\n",
    "\n",
    "## both buttons need to me turned on to start parametric resonance"
   ]
  },
  {
   "cell_type": "code",
   "execution_count": null,
   "id": "6ed47375",
   "metadata": {},
   "outputs": [],
   "source": [
    "daq_module = daq.dataAcquisitionModule()\n",
    "daq_module.set('triggernode', '/dev3554/demods/0/sample.R')\n",
    "daq_module.set('preview', 1)\n",
    "daq_module.set('device', 'dev3554')\n",
    "daq_module.set('historylength', 100)\n",
    "daq_module.set('hysteresis', 0.01000000)\n",
    "daq_module.set('level', 0.10000000)\n",
    "daq_module.set('save/directory', '\\\\home\\mdudko\\My Documents\\Zurich Instruments\\LabOne\\WebServer')\n",
    "daq_module.set('clearhistory', 1)\n",
    "daq_module.set('bandwidth', 0.00000000)"
   ]
  },
  {
   "cell_type": "code",
   "execution_count": null,
   "id": "36f6cea9",
   "metadata": {},
   "outputs": [],
   "source": [
    "turnOn = True\n",
    "ttime = 1\n",
    "length = 1"
   ]
  },
  {
   "cell_type": "code",
   "execution_count": null,
   "id": "b2b12f7a",
   "metadata": {},
   "outputs": [],
   "source": [
    "# record and save data, plot for preview\n",
    "if turnOn:\n",
    "    daq.setInt('/dev3554/sigouts/0/enables/1', 1)\n",
    "    time.sleep(ttime)\n",
    "\n",
    "\n",
    "daq_module.set('endless', 0)\n",
    "# daq_module.subscribe('/dev3554/demods/0/sample.R.avg')\n",
    "daq_module.subscribe('/dev3554/demods/0/sample.X.avg')\n",
    "daq_module.subscribe('/dev3554/demods/0/sample.Y.avg')\n",
    "daq_module.execute()\n",
    "\n",
    "p = length*100\n",
    "daq_module.set('grid/cols', p)\n",
    "daq.setInt('/dev3554/sigouts/0/enables/1', 0)\n",
    "daq_module.set('forcetrigger', 1)\n",
    "\n",
    "while daq_module.progress() < 1.0 and not daq_module.finished():\n",
    "    time.sleep(5)\n",
    "    print(f\"Progress {float(daq_module.progress()) * 100:.2f} %\\r\")\n",
    "\n",
    "data = daq_module.read()\n",
    "\n",
    "x = np.array(data['dev3554']['demods']['0']['sample.x.avg'][0]['value'])[0]\n",
    "y = np.array(data['dev3554']['demods']['0']['sample.y.avg'][0]['value'])[0]\n",
    "\n",
    "myString = datetime.datetime.now().strftime(\"%H-%M\")\n",
    "np.savetxt(f\"{myString}.csv\",np.column_stack((x,y)),delimiter=\",\",fmt='%s',comments='')\n",
    "\n",
    "plt.scatter(x*1000,y*1000)\n",
    "plt.show()"
   ]
  },
  {
   "cell_type": "code",
   "execution_count": null,
   "id": "a08bf023",
   "metadata": {},
   "outputs": [],
   "source": [
    "#Import and plot data for preview\n",
    "import numpy as np\n",
    "import matplotlib.pyplot as plt\n",
    "\n",
    "datar = np.genfromtxt(r\"\\DATA\\11-51.csv\", delimiter=\",\")\n",
    "xr = datar[:,0]\n",
    "yr = datar[:,1]\n",
    "plt.scatter(xr*1000,yr*1000)\n",
    "plt.show()"
   ]
  }
 ],
 "metadata": {
  "kernelspec": {
   "display_name": "Python 3 (ipykernel)",
   "language": "python",
   "name": "python3"
  },
  "language_info": {
   "codemirror_mode": {
    "name": "ipython",
    "version": 3
   },
   "file_extension": ".py",
   "mimetype": "text/x-python",
   "name": "python",
   "nbconvert_exporter": "python",
   "pygments_lexer": "ipython3",
   "version": "3.9.18"
  }
 },
 "nbformat": 4,
 "nbformat_minor": 5
}
